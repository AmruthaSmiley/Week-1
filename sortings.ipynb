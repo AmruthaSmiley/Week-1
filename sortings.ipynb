{
  "nbformat": 4,
  "nbformat_minor": 0,
  "metadata": {
    "colab": {
      "provenance": [],
      "authorship_tag": "ABX9TyPye7/kK8fbNzezpmiL2iCO",
      "include_colab_link": true
    },
    "kernelspec": {
      "name": "python3",
      "display_name": "Python 3"
    },
    "language_info": {
      "name": "python"
    }
  },
  "cells": [
    {
      "cell_type": "markdown",
      "metadata": {
        "id": "view-in-github",
        "colab_type": "text"
      },
      "source": [
        "<a href=\"https://colab.research.google.com/github/AmruthaSmiley/Week-1/blob/main/sortings.ipynb\" target=\"_parent\"><img src=\"https://colab.research.google.com/assets/colab-badge.svg\" alt=\"Open In Colab\"/></a>"
      ]
    },
    {
      "cell_type": "markdown",
      "source": [
        "inseartion sort:\n",
        "\n",
        "\n",
        "1.   start from the second element(i=1)\n",
        "2.   previous index valued element check\n",
        "3.   shift larger element one position to the right\n",
        "4.   insertion the current element in the correct position\n",
        "5.   repeat until sorted"
      ],
      "metadata": {
        "id": "ZVKB4w_2Mvkl"
      }
    },
    {
      "cell_type": "markdown",
      "source": [
        "SORTINGS,\n",
        "SELECTION,\n",
        "INSERTION,\n",
        "BUBBLE,\n",
        "QUICK,\n",
        "COUNTING,\n",
        "RADIX,\n",
        "HEAP."
      ],
      "metadata": {
        "id": "7bh06Qz4MmD2"
      }
    },
    {
      "cell_type": "code",
      "execution_count": 1,
      "metadata": {
        "id": "oU6pUCBsMW6I",
        "colab": {
          "base_uri": "https://localhost:8080/"
        },
        "outputId": "7bfa4888-97ab-4785-b0ae-ba4441561425"
      },
      "outputs": [
        {
          "output_type": "stream",
          "name": "stdout",
          "text": [
            "enter the size of array:5\n",
            "Enter the elements:\n",
            "Element1:7\n",
            "Element2:2\n",
            "Element3:6\n",
            "Element4:3\n",
            "Element5:1\n",
            "Sorted array: [1, 3, 6, 2, 7]\n"
          ]
        }
      ],
      "source": [
        "#SELECTION OPERATION\n",
        "'''\n",
        "1.START FROM THE FIRST ELEMENT IN THE LIST/ARRAY\n",
        "2.ARR[0]=MIN\n",
        "3.COMPARE WITH ALL THE REMAINING ELEMENTS TO FIND THE REAL LOWEST ELEMENT\n",
        "4.PERFORM SWAPPING WITH CURRENT POSITION\n",
        "5.REPEAT THE SAME WITH ADDING POSITIONAL VALUES FOR EACH, MIN CHECK\n",
        "FOR -> 0 TO N-1:\n",
        "  MIN=1\n",
        "  FOR J ->I+1 TO N:\n",
        "    IF ARR[J]<ARR(MIN)\n",
        "      SWAP\n",
        "MIN=i+1'''\n",
        "\n",
        "def selection_sort(arr):\n",
        "  n=len(arr)\n",
        "  for i in range(n):\n",
        "    min_index=i\n",
        "    for j in range(i+1, n):\n",
        "      if arr[j]<arr[min_index]:\n",
        "        min_index=j\n",
        "        arr[i], arr[min_index]=arr[min_index], arr[i]\n",
        "  return arr\n",
        "size=int(input(\"enter the size of array:\"))\n",
        "arr=[]\n",
        "print(\"Enter the elements:\")\n",
        "for i in range(size):\n",
        "  num=int(input(f\"Element{i+1}:\"))\n",
        "  arr.append(num)\n",
        "result=selection_sort(arr)\n",
        "print(\"Sorted array:\", result)"
      ]
    },
    {
      "cell_type": "code",
      "source": [
        "#decending order\n",
        "def selection_sort(arr):\n",
        "  n=len(arr)\n",
        "  for i in range(n):\n",
        "    min_index=i\n",
        "    for j in range(i+1, n):\n",
        "      if arr[j]<arr[min_index]:\n",
        "        min_index=j\n",
        "        arr[i], arr[min_index]=arr[min_index], arr[i]\n",
        "  return arr\n",
        "size=int(input(\"enter the size of array:\"))\n",
        "arr=[]\n",
        "print(\"Enter the elements:\")\n",
        "for i in range(size):\n",
        "  num=int(input(f\"Element{i+1}:\"))\n",
        "  arr.append(num)\n",
        "result=selection_sort(arr)\n",
        "print(\"Sorted array:\", result)"
      ],
      "metadata": {
        "id": "qZFhKGOROA2D",
        "colab": {
          "base_uri": "https://localhost:8080/"
        },
        "outputId": "50832398-fcb6-428d-9ab1-015bb6f9327d"
      },
      "execution_count": 2,
      "outputs": [
        {
          "output_type": "stream",
          "name": "stdout",
          "text": [
            "enter the size of array:3\n",
            "Enter the elements:\n",
            "Element1:8\n",
            "Element2:9\n",
            "Element3:10\n",
            "Sorted array: [8, 9, 10]\n"
          ]
        }
      ]
    },
    {
      "cell_type": "code",
      "source": [
        "#insertion order\n",
        "def insertion_sort(arr):\n",
        "    for i in range(1, len(arr)):\n",
        "        key=arr[i]\n",
        "        j=i-1\n",
        "        while j>=0 and arr[j]>key:\n",
        "            arr[j+1]=arr[j]\n",
        "            j-=1\n",
        "        arr[j+1]=key\n",
        "    return arr\n",
        "size = int(input(\"enter the number of elements:\"))\n",
        "arr=[]\n",
        "print(\"enter \",size,\"elements\")\n",
        "for _ in range(size):\n",
        "    num=int(input())\n",
        "    arr.append(num)\n",
        "result=insertion_sort(arr)\n",
        "print(\"sorted array\",result)"
      ],
      "metadata": {
        "id": "hV8KF20yX4Oq",
        "colab": {
          "base_uri": "https://localhost:8080/"
        },
        "outputId": "6c914347-7392-4c4c-e67e-5cd26b7834c6"
      },
      "execution_count": 3,
      "outputs": [
        {
          "output_type": "stream",
          "name": "stdout",
          "text": [
            "enter the number of elements:6\n",
            "enter  6 elements\n",
            "8\n",
            "2\n",
            "5\n",
            "6\n",
            "4\n",
            "10\n",
            "sorted array [2, 4, 5, 6, 8, 10]\n"
          ]
        }
      ]
    },
    {
      "cell_type": "markdown",
      "source": [
        "8-7-2025"
      ],
      "metadata": {
        "id": "7UeMmU49WGv9"
      }
    },
    {
      "cell_type": "markdown",
      "source": [
        "BUBBLE SORT\n",
        "\n",
        "COUNTING SORT\n",
        "\n",
        "COMB SORT"
      ],
      "metadata": {
        "id": "S_xWgoIGWYC9"
      }
    },
    {
      "cell_type": "code",
      "source": [
        "#ALGO:\n",
        "#1. START FROM THE BEGINING OF THE ARRAY/LISTS\n",
        "#2. COMPARE EACH PAIR TO ADJACENT NUMBER\n",
        "#3. IF LATEST ELEMENT IS GREATER THAN ADJACENT PERFORM SWAP\n",
        "#4. REPEAT THE PROCESSES TILL N-1.\n",
        "#5. AFTER EACH CYCLE/PASS, LARGEST UNSORTED ELEMENT WOULD BE IN CORRECT POSITION\n",
        "#6. REPEAT PASS TILL ALL THE ELEMENTS ARE SORTED\n",
        "\n",
        "\n",
        "#PSEUDO:\n",
        "\n",
        "'''\n",
        "for i -> 0 n-1:\n",
        "  for j -> 0 to n-i-2:\n",
        "    if a[j] > a [j+1]\n",
        "    wap (a[j], a[j+1])'''\n",
        "\n",
        "def bubble_sort(arr):\n",
        "  n=len(arr)\n",
        "  for i in range(n):\n",
        "    for j in range(0, n-i-1):\n",
        "      if arr[j]>arr[j+1]:\n",
        "        arr[j], arr[j+1]=arr[j+1], arr[j]\n",
        "  return arr\n",
        "size= int(input(\"enter the number of elements:\"))\n",
        "arr=[]\n",
        "print(\"enter size elements\")\n",
        "for _ in range(size):\n",
        "  #num=int(input())\n",
        "  arr.append(int(input()))\n",
        "print(\"original list:\",arr)\n",
        "bubble_sort(arr)\n",
        "print(\"sorted list:\",arr)\n"
      ],
      "metadata": {
        "colab": {
          "base_uri": "https://localhost:8080/"
        },
        "id": "2Lc1AYtlWa84",
        "outputId": "23533a9c-dfd1-4b0b-ecca-a401810df39b"
      },
      "execution_count": 6,
      "outputs": [
        {
          "output_type": "stream",
          "name": "stdout",
          "text": [
            "enter the number of elements:5\n",
            "enter size elements\n",
            "5\n",
            "6\n",
            "8\n",
            "2\n",
            "1\n",
            "original list: [5, 6, 8, 2, 1]\n",
            "sorted list: [1, 2, 5, 6, 8]\n"
          ]
        }
      ]
    },
    {
      "cell_type": "markdown",
      "source": [
        "**COUNTING SORT**"
      ],
      "metadata": {
        "id": "qhE2d3ULbqJY"
      }
    },
    {
      "cell_type": "code",
      "source": [
        "#ALGO\n",
        "\n",
        "'''\n",
        "for (i=0;i<n;i++)\n",
        "  ++count(a(i))\n",
        "count(a, n, k)\n",
        "  int(count)"
      ],
      "metadata": {
        "id": "hA0nxjiAZdGh"
      },
      "execution_count": null,
      "outputs": []
    }
  ]
}